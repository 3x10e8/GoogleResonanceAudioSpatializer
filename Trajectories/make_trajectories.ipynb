{
 "cells": [
  {
   "attachments": {},
   "cell_type": "markdown",
   "metadata": {},
   "source": [
    "From [spatialize.js](../spatialize.js), we see we need three columns, corresponding to x, y, and z:\n",
    "```\n",
    "function set_trajectory(){\n",
    "  x_pos = data[ctr][0];\n",
    "  y_pos = data[ctr][1];\n",
    "  z_pos = data[ctr][2];\n",
    "\n",
    "  // Set the source position relative to the room center (source default position).\n",
    "  source.setPosition(x_pos, y_pos, z_pos);\n",
    "\n",
    "}\n",
    "```\n",
    "\n",
    "We also see that the trajectory is update every 0.1s:\n",
    "```\n",
    "function update_trajectory()\n",
    "{\n",
    "  if (audioContext.currentTime > next_update_time){\n",
    "    ctr = ctr + 1;\n",
    "    set_trajectory();\n",
    "    console.log(\"Update no: %d at: %f\", ctr, audioContext.currentTime - start_time);\n",
    "    next_update_time = next_update_time + 0.1;\n",
    "  }\n",
    "\n",
    "  if (ctr == ctr_max - 1){\n",
    "    clearInterval(intID);\n",
    "    setTimeout(stop_stuff, 300);\n",
    "  }\n",
    "\n",
    "}\n",
    "```\n",
    "\n",
    "Therefore, we need to make a CSV with:\n",
    "- three columns, for x, y, and z positions\n",
    "- one row per 0.1s sample"
   ]
  },
  {
   "cell_type": "code",
   "execution_count": 15,
   "metadata": {},
   "outputs": [],
   "source": [
    "import pandas as pd\n",
    "import numpy as np"
   ]
  },
  {
   "cell_type": "code",
   "execution_count": 16,
   "metadata": {},
   "outputs": [],
   "source": [
    "df = pd.DataFrame()"
   ]
  },
  {
   "cell_type": "code",
   "execution_count": 17,
   "metadata": {},
   "outputs": [
    {
     "data": {
      "text/plain": [
       "array([0.0000e+00, 1.0000e-01, 2.0000e-01, ..., 1.4997e+03, 1.4998e+03,\n",
       "       1.4999e+03])"
      ]
     },
     "execution_count": 17,
     "metadata": {},
     "output_type": "execute_result"
    }
   ],
   "source": [
    "t_step = 0.1\n",
    "duration = 25*60 # 25 minutes 39 seconds \n",
    "tt = np.arange(0, duration, t_step)\n",
    "tt"
   ]
  },
  {
   "cell_type": "code",
   "execution_count": 18,
   "metadata": {},
   "outputs": [],
   "source": [
    "df['time_s'] = tt"
   ]
  },
  {
   "attachments": {},
   "cell_type": "markdown",
   "metadata": {},
   "source": [
    "We want to place a source 45 degrees to the left:"
   ]
  },
  {
   "cell_type": "code",
   "execution_count": 19,
   "metadata": {},
   "outputs": [],
   "source": [
    "source_az_deg = 180-45\n",
    "#source_az_deg = 45\n",
    "\n",
    "az_deg = [source_az_deg]*len(tt)\n",
    "az_rad = np.array(az_deg) * np.pi / 180 \n",
    "\n",
    "xx = np.cos(az_rad)\n",
    "yy = np.sin(az_rad)\n",
    "zz = 0 # no elevation"
   ]
  },
  {
   "cell_type": "code",
   "execution_count": 20,
   "metadata": {},
   "outputs": [
    {
     "data": {
      "text/html": [
       "<div>\n",
       "<style scoped>\n",
       "    .dataframe tbody tr th:only-of-type {\n",
       "        vertical-align: middle;\n",
       "    }\n",
       "\n",
       "    .dataframe tbody tr th {\n",
       "        vertical-align: top;\n",
       "    }\n",
       "\n",
       "    .dataframe thead th {\n",
       "        text-align: right;\n",
       "    }\n",
       "</style>\n",
       "<table border=\"1\" class=\"dataframe\">\n",
       "  <thead>\n",
       "    <tr style=\"text-align: right;\">\n",
       "      <th></th>\n",
       "      <th>time_s</th>\n",
       "      <th>x</th>\n",
       "      <th>y</th>\n",
       "      <th>z</th>\n",
       "    </tr>\n",
       "  </thead>\n",
       "  <tbody>\n",
       "    <tr>\n",
       "      <th>0</th>\n",
       "      <td>0.0</td>\n",
       "      <td>-0.707107</td>\n",
       "      <td>0.707107</td>\n",
       "      <td>0</td>\n",
       "    </tr>\n",
       "    <tr>\n",
       "      <th>1</th>\n",
       "      <td>0.1</td>\n",
       "      <td>-0.707107</td>\n",
       "      <td>0.707107</td>\n",
       "      <td>0</td>\n",
       "    </tr>\n",
       "    <tr>\n",
       "      <th>2</th>\n",
       "      <td>0.2</td>\n",
       "      <td>-0.707107</td>\n",
       "      <td>0.707107</td>\n",
       "      <td>0</td>\n",
       "    </tr>\n",
       "    <tr>\n",
       "      <th>3</th>\n",
       "      <td>0.3</td>\n",
       "      <td>-0.707107</td>\n",
       "      <td>0.707107</td>\n",
       "      <td>0</td>\n",
       "    </tr>\n",
       "    <tr>\n",
       "      <th>4</th>\n",
       "      <td>0.4</td>\n",
       "      <td>-0.707107</td>\n",
       "      <td>0.707107</td>\n",
       "      <td>0</td>\n",
       "    </tr>\n",
       "    <tr>\n",
       "      <th>...</th>\n",
       "      <td>...</td>\n",
       "      <td>...</td>\n",
       "      <td>...</td>\n",
       "      <td>...</td>\n",
       "    </tr>\n",
       "    <tr>\n",
       "      <th>14995</th>\n",
       "      <td>1499.5</td>\n",
       "      <td>-0.707107</td>\n",
       "      <td>0.707107</td>\n",
       "      <td>0</td>\n",
       "    </tr>\n",
       "    <tr>\n",
       "      <th>14996</th>\n",
       "      <td>1499.6</td>\n",
       "      <td>-0.707107</td>\n",
       "      <td>0.707107</td>\n",
       "      <td>0</td>\n",
       "    </tr>\n",
       "    <tr>\n",
       "      <th>14997</th>\n",
       "      <td>1499.7</td>\n",
       "      <td>-0.707107</td>\n",
       "      <td>0.707107</td>\n",
       "      <td>0</td>\n",
       "    </tr>\n",
       "    <tr>\n",
       "      <th>14998</th>\n",
       "      <td>1499.8</td>\n",
       "      <td>-0.707107</td>\n",
       "      <td>0.707107</td>\n",
       "      <td>0</td>\n",
       "    </tr>\n",
       "    <tr>\n",
       "      <th>14999</th>\n",
       "      <td>1499.9</td>\n",
       "      <td>-0.707107</td>\n",
       "      <td>0.707107</td>\n",
       "      <td>0</td>\n",
       "    </tr>\n",
       "  </tbody>\n",
       "</table>\n",
       "<p>15000 rows × 4 columns</p>\n",
       "</div>"
      ],
      "text/plain": [
       "       time_s         x         y  z\n",
       "0         0.0 -0.707107  0.707107  0\n",
       "1         0.1 -0.707107  0.707107  0\n",
       "2         0.2 -0.707107  0.707107  0\n",
       "3         0.3 -0.707107  0.707107  0\n",
       "4         0.4 -0.707107  0.707107  0\n",
       "...       ...       ...       ... ..\n",
       "14995  1499.5 -0.707107  0.707107  0\n",
       "14996  1499.6 -0.707107  0.707107  0\n",
       "14997  1499.7 -0.707107  0.707107  0\n",
       "14998  1499.8 -0.707107  0.707107  0\n",
       "14999  1499.9 -0.707107  0.707107  0\n",
       "\n",
       "[15000 rows x 4 columns]"
      ]
     },
     "execution_count": 20,
     "metadata": {},
     "output_type": "execute_result"
    }
   ],
   "source": [
    "df['x'] = xx\n",
    "df['y'] = yy\n",
    "df['z'] = zz\n",
    "df"
   ]
  },
  {
   "cell_type": "code",
   "execution_count": 21,
   "metadata": {},
   "outputs": [],
   "source": [
    "df[['x', 'y', 'z']].to_csv(\n",
    "    f'az-{source_az_deg}-deg_dur-{duration}-s_step-{t_step}-s.csv',\n",
    "    header = False, # skip showing column names \n",
    "    index = False, # skip row indices\n",
    ")"
   ]
  },
  {
   "cell_type": "code",
   "execution_count": null,
   "metadata": {},
   "outputs": [],
   "source": []
  }
 ],
 "metadata": {
  "kernelspec": {
   "display_name": "base",
   "language": "python",
   "name": "python3"
  },
  "language_info": {
   "codemirror_mode": {
    "name": "ipython",
    "version": 3
   },
   "file_extension": ".py",
   "mimetype": "text/x-python",
   "name": "python",
   "nbconvert_exporter": "python",
   "pygments_lexer": "ipython3",
   "version": "3.9.12"
  },
  "orig_nbformat": 4
 },
 "nbformat": 4,
 "nbformat_minor": 2
}
